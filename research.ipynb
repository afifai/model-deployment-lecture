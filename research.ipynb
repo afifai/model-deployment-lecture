{
 "cells": [
  {
   "cell_type": "code",
   "execution_count": 1,
   "metadata": {},
   "outputs": [
    {
     "data": {
      "text/plain": [
       "'1.0.2'"
      ]
     },
     "execution_count": 1,
     "metadata": {},
     "output_type": "execute_result"
    }
   ],
   "source": [
    "import sklearn\n",
    "sklearn.__version__"
   ]
  },
  {
   "cell_type": "code",
   "execution_count": 9,
   "metadata": {},
   "outputs": [],
   "source": [
    "# inference iris\n",
    "import pickle\n",
    "with open(\"pipeline_iris.pkl\", \"rb\") as model_file:\n",
    "    model = pickle.load(model_file)"
   ]
  },
  {
   "cell_type": "code",
   "execution_count": 10,
   "metadata": {},
   "outputs": [
    {
     "data": {
      "text/plain": [
       "array([1], dtype=int64)"
      ]
     },
     "execution_count": 10,
     "metadata": {},
     "output_type": "execute_result"
    }
   ],
   "source": [
    "new_data = [6.2, 2.9, 4.3, 1.3]\n",
    "model.predict([new_data])"
   ]
  },
  {
   "cell_type": "code",
   "execution_count": 11,
   "metadata": {},
   "outputs": [],
   "source": [
    "# titanic model\n",
    "with open(\"titanic_pipe.pkl\", \"rb\") as model_file:\n",
    "    titanic = pickle.load(model_file)"
   ]
  },
  {
   "cell_type": "code",
   "execution_count": 15,
   "metadata": {},
   "outputs": [
    {
     "data": {
      "text/html": [
       "<div>\n",
       "<style scoped>\n",
       "    .dataframe tbody tr th:only-of-type {\n",
       "        vertical-align: middle;\n",
       "    }\n",
       "\n",
       "    .dataframe tbody tr th {\n",
       "        vertical-align: top;\n",
       "    }\n",
       "\n",
       "    .dataframe thead th {\n",
       "        text-align: right;\n",
       "    }\n",
       "</style>\n",
       "<table border=\"1\" class=\"dataframe\">\n",
       "  <thead>\n",
       "    <tr style=\"text-align: right;\">\n",
       "      <th></th>\n",
       "      <th>Pclass</th>\n",
       "      <th>Sex</th>\n",
       "      <th>Age</th>\n",
       "      <th>SibSp</th>\n",
       "      <th>Parch</th>\n",
       "      <th>Fare</th>\n",
       "    </tr>\n",
       "  </thead>\n",
       "  <tbody>\n",
       "    <tr>\n",
       "      <th>0</th>\n",
       "      <td>3</td>\n",
       "      <td>male</td>\n",
       "      <td>NaN</td>\n",
       "      <td>0</td>\n",
       "      <td>0</td>\n",
       "      <td>7.25</td>\n",
       "    </tr>\n",
       "  </tbody>\n",
       "</table>\n",
       "</div>"
      ],
      "text/plain": [
       "   Pclass   Sex  Age  SibSp  Parch  Fare\n",
       "0       3  male  NaN      0      0  7.25"
      ]
     },
     "execution_count": 15,
     "metadata": {},
     "output_type": "execute_result"
    }
   ],
   "source": [
    "import numpy as np\n",
    "import pandas as pd\n",
    "columns = ['Pclass', 'Sex', 'Age', 'SibSp', 'Parch', 'Fare']\n",
    "new_data = [3, \"male\", np.nan, 0, 0, 7.250]\n",
    "new_data = pd.DataFrame([new_data], columns=columns)\n",
    "new_data"
   ]
  },
  {
   "cell_type": "code",
   "execution_count": 16,
   "metadata": {},
   "outputs": [
    {
     "data": {
      "text/plain": [
       "array([0], dtype=int64)"
      ]
     },
     "execution_count": 16,
     "metadata": {},
     "output_type": "execute_result"
    }
   ],
   "source": [
    "titanic.predict(new_data)"
   ]
  },
  {
   "cell_type": "markdown",
   "metadata": {},
   "source": [
    "### Akses API BMKG"
   ]
  },
  {
   "cell_type": "code",
   "execution_count": 17,
   "metadata": {},
   "outputs": [],
   "source": [
    "import requests"
   ]
  },
  {
   "cell_type": "code",
   "execution_count": 24,
   "metadata": {},
   "outputs": [
    {
     "name": "stdout",
     "output_type": "stream",
     "text": [
      "Waktu & Tanggal\t: 04:38:59 WIB, 21 Jul 2022\n",
      "Wilayah\t: Pusat gempa berada di darat 54 km barat laut Luwu Timur\n",
      "Kekuatan\t: 4.7 SR\n",
      "===\n",
      "Waktu & Tanggal\t: 21:30:02 WIB, 20 Jul 2022\n",
      "Wilayah\t: Pusat gempa berada di darat 11 km timur laut Raja Ampat\n",
      "Kekuatan\t: 3.2 SR\n",
      "===\n",
      "Waktu & Tanggal\t: 12:31:37 WIB, 20 Jul 2022\n",
      "Wilayah\t: Pusat gempa berada di laut 91 km barat daya Gorontalo\n",
      "Kekuatan\t: 5.0 SR\n",
      "===\n",
      "Waktu & Tanggal\t: 06:46:50 WIB, 20 Jul 2022\n",
      "Wilayah\t: Pusat gempa berada di laut 68 km BaratDaya Bengkulu\n",
      "Kekuatan\t: 5.8 SR\n",
      "===\n",
      "Waktu & Tanggal\t: 09:54:24 WIB, 18 Jul 2022\n",
      "Wilayah\t: Pusat gempa berada di laut 52 km BaratDaya Banda\n",
      "Kekuatan\t: 4.4 SR\n",
      "===\n",
      "Waktu & Tanggal\t: 22:50:06 WIB, 17 Jul 2022\n",
      "Wilayah\t: Pusat gempa berada di laut 36 km barat daya Bayah\n",
      "Kekuatan\t: 4.2 SR\n",
      "===\n",
      "Waktu & Tanggal\t: 19:58:37 WIB, 17 Jul 2022\n",
      "Wilayah\t: Pusat gempa berada di laut 70 km Baratdaya Bonebolango\n",
      "Kekuatan\t: 5.3 SR\n",
      "===\n",
      "Waktu & Tanggal\t: 16:13:05 WIB, 17 Jul 2022\n",
      "Wilayah\t: Pusat gempa berada di Laut 111 km BaratDaya Pacitan\n",
      "Kekuatan\t: 5.5 SR\n",
      "===\n",
      "Waktu & Tanggal\t: 22:05:15 WIB, 16 Jul 2022\n",
      "Wilayah\t: Pusat gempa berada di laut 84 km BaratDaya Pangandaran\n",
      "Kekuatan\t: 4.9 SR\n",
      "===\n",
      "Waktu & Tanggal\t: 21:41:13 WIB, 16 Jul 2022\n",
      "Wilayah\t: Pusat gempa berada di laut 97 km BaratDaya Pangandaran\n",
      "Kekuatan\t: 4.4 SR\n",
      "===\n",
      "Waktu & Tanggal\t: 16:36:35 WIB, 16 Jul 2022\n",
      "Wilayah\t: Pusat gempa berada di laut 16 km timurlaut Jayapura\n",
      "Kekuatan\t: 3.0 SR\n",
      "===\n",
      "Waktu & Tanggal\t: 22:47:39 WIB, 15 Jul 2022\n",
      "Wilayah\t: Pusat gempa berada di darat 11 km Barat Laut Padang Panjang\n",
      "Kekuatan\t: 3.0 SR\n",
      "===\n",
      "Waktu & Tanggal\t: 19:18:00 WIB, 15 Jul 2022\n",
      "Wilayah\t: Pusat gempa berada di darat 15 km barat daya Bukittinggi\n",
      "Kekuatan\t: 3.9 SR\n",
      "===\n",
      "Waktu & Tanggal\t: 19:03:13 WIB, 15 Jul 2022\n",
      "Wilayah\t: Pusat gempa berada di darat 14 km Tenggara Kab. Bireuen\n",
      "Kekuatan\t: 3.9 SR\n",
      "===\n",
      "Waktu & Tanggal\t: 18:37:40 WIB, 14 Jul 2022\n",
      "Wilayah\t: Pusat gempa berada di darat 65 km TimurLaut Bontang\n",
      "Kekuatan\t: 3.8 SR\n",
      "===\n"
     ]
    }
   ],
   "source": [
    "URL = \"https://data.bmkg.go.id/DataMKG/TEWS/gempadirasakan.json\"\n",
    "r = requests.get(URL)\n",
    "data = r.json()\n",
    "\n",
    "# parsing\n",
    "for item in data['Infogempa']['gempa']:\n",
    "    print(f\"Waktu & Tanggal\\t: {item['Jam']}, {item['Tanggal']}\")\n",
    "    print(f\"Wilayah\\t: {item['Wilayah']}\")\n",
    "    print(f\"Kekuatan\\t: {item['Magnitude']} SR\")\n",
    "    print(\"===\")"
   ]
  },
  {
   "cell_type": "code",
   "execution_count": 27,
   "metadata": {},
   "outputs": [
    {
     "data": {
      "text/plain": [
       "{'name': 'afifah', 'gender': 'female', 'probability': 0.99, 'count': 87}"
      ]
     },
     "execution_count": 27,
     "metadata": {},
     "output_type": "execute_result"
    }
   ],
   "source": [
    "URL = \"https://api.genderize.io?name=afifah\"\n",
    "r = requests.get(URL)\n",
    "res = r.json()\n",
    "res"
   ]
  },
  {
   "cell_type": "code",
   "execution_count": 28,
   "metadata": {},
   "outputs": [
    {
     "data": {
      "text/plain": [
       "{'label_names': 'Versicolor', 'result': '1'}"
      ]
     },
     "execution_count": 28,
     "metadata": {},
     "output_type": "execute_result"
    }
   ],
   "source": [
    "import requests\n",
    "URL = \"http://127.0.0.1:5000/iris?sl=3.2&sw=2.3&pl=5.4\"\n",
    "r = requests.get(URL)\n",
    "res = r.json()\n",
    "res"
   ]
  },
  {
   "cell_type": "code",
   "execution_count": 4,
   "metadata": {},
   "outputs": [
    {
     "data": {
      "text/plain": [
       "{'label_names': 'Virginica', 'result': '2'}"
      ]
     },
     "execution_count": 4,
     "metadata": {},
     "output_type": "execute_result"
    }
   ],
   "source": [
    "# param terpisah\n",
    "URL = \"https://model-deployment-lecture.herokuapp.com/iris\"\n",
    "param = {\"sl\":1.5,\n",
    "         \"sw\":2.7,\n",
    "         \"pl\":6.5,\n",
    "         \"pw\":3.1}\n",
    "r = requests.get(URL, params=param)\n",
    "res = r.json()\n",
    "res"
   ]
  },
  {
   "cell_type": "code",
   "execution_count": 3,
   "metadata": {},
   "outputs": [
    {
     "data": {
      "text/plain": [
       "{'label_names': 'Not Survived', 'result': '0'}"
      ]
     },
     "execution_count": 3,
     "metadata": {},
     "output_type": "execute_result"
    }
   ],
   "source": [
    "# post\n",
    "import requests\n",
    "URL = \"https://model-deployment-lecture.herokuapp.com/titanic\"\n",
    "param = {'passenger_class': 1,\n",
    "         'gender': 'male',\n",
    "         'age' : 24,\n",
    "         'sibling_spouse' :0,\n",
    "         'parent_children' : 0,\n",
    "         'fare' : 350}\n",
    "r = requests.post(URL, json=param)\n",
    "res = r.json()\n",
    "res"
   ]
  },
  {
   "cell_type": "code",
   "execution_count": null,
   "metadata": {},
   "outputs": [],
   "source": []
  }
 ],
 "metadata": {
  "kernelspec": {
   "display_name": "Python 3.9.12 ('base')",
   "language": "python",
   "name": "python3"
  },
  "language_info": {
   "codemirror_mode": {
    "name": "ipython",
    "version": 3
   },
   "file_extension": ".py",
   "mimetype": "text/x-python",
   "name": "python",
   "nbconvert_exporter": "python",
   "pygments_lexer": "ipython3",
   "version": "3.9.12"
  },
  "orig_nbformat": 4,
  "vscode": {
   "interpreter": {
    "hash": "bbef555504ff147cb36ad5cea81e31b1effacd7980e02aae87ce7a36c1bd5c30"
   }
  }
 },
 "nbformat": 4,
 "nbformat_minor": 2
}
