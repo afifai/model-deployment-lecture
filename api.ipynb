{
 "cells": [
  {
   "cell_type": "code",
   "execution_count": 7,
   "metadata": {},
   "outputs": [
    {
     "ename": "FileNotFoundError",
     "evalue": "[Errno 2] No such file or directory: 'pipeline_iris.pkl'",
     "output_type": "error",
     "traceback": [
      "\u001b[1;31m---------------------------------------------------------------------------\u001b[0m",
      "\u001b[1;31mFileNotFoundError\u001b[0m                         Traceback (most recent call last)",
      "\u001b[1;32me:\\hacktiv8\\ftds\\deployment_ftds11\\research\\load_model.ipynb Cell 1'\u001b[0m in \u001b[0;36m<cell line: 3>\u001b[1;34m()\u001b[0m\n\u001b[0;32m      <a href='vscode-notebook-cell:/e%3A/hacktiv8/ftds/deployment_ftds11/research/load_model.ipynb#ch0000000?line=0'>1</a>\u001b[0m \u001b[39mimport\u001b[39;00m \u001b[39mpickle\u001b[39;00m\n\u001b[1;32m----> <a href='vscode-notebook-cell:/e%3A/hacktiv8/ftds/deployment_ftds11/research/load_model.ipynb#ch0000000?line=2'>3</a>\u001b[0m \u001b[39mwith\u001b[39;00m \u001b[39mopen\u001b[39;49m(\u001b[39m\"\u001b[39;49m\u001b[39mpipeline_iris.pkl\u001b[39;49m\u001b[39m\"\u001b[39;49m, \u001b[39m\"\u001b[39;49m\u001b[39mrb\u001b[39;49m\u001b[39m\"\u001b[39;49m) \u001b[39mas\u001b[39;00m f:\n\u001b[0;32m      <a href='vscode-notebook-cell:/e%3A/hacktiv8/ftds/deployment_ftds11/research/load_model.ipynb#ch0000000?line=3'>4</a>\u001b[0m     model_iris \u001b[39m=\u001b[39m pickle\u001b[39m.\u001b[39mload(f)\n",
      "\u001b[1;31mFileNotFoundError\u001b[0m: [Errno 2] No such file or directory: 'pipeline_iris.pkl'"
     ]
    }
   ],
   "source": [
    "import pickle\n",
    "\n",
    "with open(\"pipeline_iris.pkl\", \"rb\") as f:\n",
    "    model_iris = pickle.load(f)"
   ]
  },
  {
   "cell_type": "code",
   "execution_count": 2,
   "metadata": {},
   "outputs": [
    {
     "data": {
      "text/plain": [
       "array([1], dtype=int64)"
      ]
     },
     "execution_count": 2,
     "metadata": {},
     "output_type": "execute_result"
    }
   ],
   "source": [
    "new_data = [1.3,0.3, 2.5, 1.2]\n",
    "res = model_iris.predict([new_data])\n",
    "res"
   ]
  },
  {
   "cell_type": "code",
   "execution_count": 8,
   "metadata": {},
   "outputs": [],
   "source": [
    "with open(\"../backend/final_pipe.pkl\", \"rb\") as f:\n",
    "    model_titanic = pickle.load(f)"
   ]
  },
  {
   "cell_type": "code",
   "execution_count": 10,
   "metadata": {},
   "outputs": [
    {
     "data": {
      "text/plain": [
       "0"
      ]
     },
     "execution_count": 10,
     "metadata": {},
     "output_type": "execute_result"
    }
   ],
   "source": [
    "import pandas as pd\n",
    "\n",
    "datacol = ['Pclass', 'Sex', 'Age', 'SibSp', 'Parch', 'Fare']\n",
    "new_data = [3, 'male', 21.0, 0, 0, 16.1000]\n",
    "\n",
    "new_data = pd.DataFrame([new_data], columns=datacol)\n",
    "res = model_titanic.predict(new_data)\n",
    "res[0]"
   ]
  },
  {
   "cell_type": "code",
   "execution_count": 1,
   "metadata": {},
   "outputs": [],
   "source": [
    "new_data = {'passenger_class': 1,\n",
    "                        'gender': 'male',\n",
    "                        'age' : 24,\n",
    "                        'sibling_spouse' :0,\n",
    "                        'parent_children' : 0,\n",
    "                        'fare' : 350}"
   ]
  },
  {
   "cell_type": "code",
   "execution_count": 3,
   "metadata": {},
   "outputs": [
    {
     "data": {
      "text/html": [
       "<div>\n",
       "<style scoped>\n",
       "    .dataframe tbody tr th:only-of-type {\n",
       "        vertical-align: middle;\n",
       "    }\n",
       "\n",
       "    .dataframe tbody tr th {\n",
       "        vertical-align: top;\n",
       "    }\n",
       "\n",
       "    .dataframe thead th {\n",
       "        text-align: right;\n",
       "    }\n",
       "</style>\n",
       "<table border=\"1\" class=\"dataframe\">\n",
       "  <thead>\n",
       "    <tr style=\"text-align: right;\">\n",
       "      <th></th>\n",
       "      <th>passenger_class</th>\n",
       "      <th>gender</th>\n",
       "      <th>age</th>\n",
       "      <th>sibling_spouse</th>\n",
       "      <th>parent_children</th>\n",
       "      <th>fare</th>\n",
       "    </tr>\n",
       "  </thead>\n",
       "  <tbody>\n",
       "    <tr>\n",
       "      <th>0</th>\n",
       "      <td>1</td>\n",
       "      <td>male</td>\n",
       "      <td>24</td>\n",
       "      <td>0</td>\n",
       "      <td>0</td>\n",
       "      <td>350</td>\n",
       "    </tr>\n",
       "  </tbody>\n",
       "</table>\n",
       "</div>"
      ],
      "text/plain": [
       "   passenger_class gender  age  sibling_spouse  parent_children  fare\n",
       "0                1   male   24               0                0   350"
      ]
     },
     "execution_count": 3,
     "metadata": {},
     "output_type": "execute_result"
    }
   ],
   "source": [
    "import pandas as pd\n",
    "\n",
    "pd.DataFrame([new_data])"
   ]
  },
  {
   "cell_type": "code",
   "execution_count": 9,
   "metadata": {},
   "outputs": [
    {
     "name": "stdout",
     "output_type": "stream",
     "text": [
      "Collecting requests\n",
      "  Using cached requests-2.27.1-py2.py3-none-any.whl (63 kB)\n",
      "Collecting charset-normalizer~=2.0.0\n",
      "  Using cached charset_normalizer-2.0.12-py3-none-any.whl (39 kB)\n",
      "Collecting urllib3<1.27,>=1.21.1\n",
      "  Using cached urllib3-1.26.9-py2.py3-none-any.whl (138 kB)\n",
      "Collecting idna<4,>=2.5\n",
      "  Using cached idna-3.3-py3-none-any.whl (61 kB)\n",
      "Collecting certifi>=2017.4.17\n",
      "  Downloading certifi-2022.5.18.1-py3-none-any.whl (155 kB)\n",
      "     -------------------------------------- 155.2/155.2 KB 1.9 MB/s eta 0:00:00\n",
      "Installing collected packages: urllib3, idna, charset-normalizer, certifi, requests\n",
      "Successfully installed certifi-2022.5.18.1 charset-normalizer-2.0.12 idna-3.3 requests-2.27.1 urllib3-1.26.9\n"
     ]
    },
    {
     "name": "stderr",
     "output_type": "stream",
     "text": [
      "WARNING: You are using pip version 22.0.4; however, version 22.1.1 is available.\n",
      "You should consider upgrading via the 'E:\\hacktiv8\\ftds\\deployment_ftds11\\venv\\Scripts\\python.exe -m pip install --upgrade pip' command.\n"
     ]
    }
   ],
   "source": [
    "! pip install requests"
   ]
  },
  {
   "cell_type": "code",
   "execution_count": 22,
   "metadata": {},
   "outputs": [
    {
     "name": "stdout",
     "output_type": "stream",
     "text": [
      "INFO GEMPA TERBARU\n",
      "Waktu & Tanggal\t: 09:36:06 WIB, 27 Mei 2022\n",
      "Wilayah\t: Pusat gempa berada di laut 85 km BaratDaya Maluku Barat Daya\n",
      "Kekuatan\t: 6.5 SR\n",
      "===\n",
      "Waktu & Tanggal\t: 07:38:50 WIB, 27 Mei 2022\n",
      "Wilayah\t: Pusat gempa berada di laut 81 km BaratDaya Pangandaran\n",
      "Kekuatan\t: 4.0 SR\n",
      "===\n",
      "Waktu & Tanggal\t: 23:55:12 WIB, 26 Mei 2022\n",
      "Wilayah\t: Pusat gempa berada di darat 8 km Timur Palu\n",
      "Kekuatan\t: 3.0 SR\n",
      "===\n",
      "Waktu & Tanggal\t: 20:53:21 WIB, 26 Mei 2022\n",
      "Wilayah\t: Pusat gempa berada di darat 29 km barat daya Kab. Pidie Jaya\n",
      "Kekuatan\t: 3.7 SR\n",
      "===\n",
      "Waktu & Tanggal\t: 03:24:45 WIB, 26 Mei 2022\n",
      "Wilayah\t: Pusat gempa berada di laut 14 km BaratDaya Kota Sabang\n",
      "Kekuatan\t: 3.1 SR\n",
      "===\n",
      "Waktu & Tanggal\t: 22:05:06 WIB, 25 Mei 2022\n",
      "Wilayah\t: Pusat gempa berada di laut 819 km BaratDaya Nias Selatan\n",
      "Kekuatan\t: 6.2 SR\n",
      "===\n",
      "Waktu & Tanggal\t: 21:15:51 WIB, 25 Mei 2022\n",
      "Wilayah\t: Pusat gempa berada di laut 6 km barat daya Kairatu-Seram Bagian Barat\n",
      "Kekuatan\t: 2.5 SR\n",
      "===\n",
      "Waktu & Tanggal\t: 20:20:49 WIB, 25 Mei 2022\n",
      "Wilayah\t: Pusat gempa berada di darat 17 km timur laut Dompu\n",
      "Kekuatan\t: 3.6 SR\n",
      "===\n",
      "Waktu & Tanggal\t: 04:18:56 WIB, 25 Mei 2022\n",
      "Wilayah\t: Pusat gempa berada di laut 94 km barat daya Lombok Barat\n",
      "Kekuatan\t: 4.4 SR\n",
      "===\n",
      "Waktu & Tanggal\t: 04:18:18 WIB, 25 Mei 2022\n",
      "Wilayah\t: Pusat gempa berada di laut 67 km barat daya Pesisir Barat\n",
      "Kekuatan\t: 5.1 SR\n",
      "===\n",
      "Waktu & Tanggal\t: 19:32:02 WIB, 23 Mei 2022\n",
      "Wilayah\t: Pusat gempa berada di laut 25 km baratdaya Bengkulu Selatan\n",
      "Kekuatan\t: 4.9 SR\n",
      "===\n",
      "Waktu & Tanggal\t: 00:38:14 WIB, 23 Mei 2022\n",
      "Wilayah\t: Pusat gempa berada di laut 55 km Baratdaya Lubukbasung\n",
      "Kekuatan\t: 4.7 SR\n",
      "===\n",
      "Waktu & Tanggal\t: 15:29:16 WIB, 21 Mei 2022\n",
      "Wilayah\t: Pusat gempa berada di laut 23 km Barat Daya Bengkulu Selatan\n",
      "Kekuatan\t: 4.8 SR\n",
      "===\n",
      "Waktu & Tanggal\t: 22:29:16 WIB, 19 Mei 2022\n",
      "Wilayah\t: Pusat gempa berada di laut 141 km baratLaut Halmahera barat\n",
      "Kekuatan\t: 5.5 SR\n",
      "===\n",
      "Waktu & Tanggal\t: 04:12:08 WIB, 19 Mei 2022\n",
      "Wilayah\t: Pusat gempa berada di darat 7 km Utara Ambon\n",
      "Kekuatan\t: 2.9 SR\n",
      "===\n"
     ]
    }
   ],
   "source": [
    "import requests\n",
    "\n",
    "URL = \"https://data.bmkg.go.id/DataMKG/TEWS/gempadirasakan.json\"\n",
    "r = requests.get(URL)\n",
    "data = r.json()\n",
    "\n",
    "# parsing data\n",
    "print(\"INFO GEMPA TERBARU\")\n",
    "for item in data['Infogempa']['gempa']:\n",
    "    print(f\"Waktu & Tanggal\\t: {item['Jam']}, {item['Tanggal']}\")\n",
    "    print(f\"Wilayah\\t: {item['Wilayah']}\")\n",
    "    print(f\"Kekuatan\\t: {item['Magnitude']} SR\")\n",
    "    print(\"===\")"
   ]
  },
  {
   "cell_type": "code",
   "execution_count": 19,
   "metadata": {},
   "outputs": [
    {
     "data": {
      "text/plain": [
       "{'Infogempa': {'gempa': [{'Tanggal': '27 Mei 2022',\n",
       "    'Jam': '09:36:06 WIB',\n",
       "    'DateTime': '2022-05-27T02:36:06+00:00',\n",
       "    'Coordinates': '-8.64,127.20',\n",
       "    'Lintang': '8.64 LS',\n",
       "    'Bujur': '127.20 BT',\n",
       "    'Magnitude': '6.5',\n",
       "    'Kedalaman': '104 km',\n",
       "    'Wilayah': 'Pusat gempa berada di laut 85 km BaratDaya Maluku Barat Daya',\n",
       "    'Dirasakan': 'III-IV Alor, II Kupang, IV-V Timor Leste, IV Tiakur, IV Kisar, III Damer'},\n",
       "   {'Tanggal': '27 Mei 2022',\n",
       "    'Jam': '07:38:50 WIB',\n",
       "    'DateTime': '2022-05-27T00:38:50+00:00',\n",
       "    'Coordinates': '-8.16,107.92',\n",
       "    'Lintang': '8.16 LS',\n",
       "    'Bujur': '107.92 BT',\n",
       "    'Magnitude': '4.0',\n",
       "    'Kedalaman': '25 km',\n",
       "    'Wilayah': 'Pusat gempa berada di laut 81 km BaratDaya Pangandaran',\n",
       "    'Dirasakan': 'III Cipatujah, III Pangandaran, III Ciamis, III Karangnunggal, III Cikalong, II Singajaya, II cikajang'},\n",
       "   {'Tanggal': '26 Mei 2022',\n",
       "    'Jam': '23:55:12 WIB',\n",
       "    'DateTime': '2022-05-26T16:55:12+00:00',\n",
       "    'Coordinates': '-0.91,119.94',\n",
       "    'Lintang': '0.91 LS',\n",
       "    'Bujur': '119.94 BT',\n",
       "    'Magnitude': '3.0',\n",
       "    'Kedalaman': '7 km',\n",
       "    'Wilayah': 'Pusat gempa berada di darat 8 km Timur Palu',\n",
       "    'Dirasakan': 'II - III Palu, II - III Sigi'},\n",
       "   {'Tanggal': '26 Mei 2022',\n",
       "    'Jam': '20:53:21 WIB',\n",
       "    'DateTime': '2022-05-26T13:53:21+00:00',\n",
       "    'Coordinates': '4.85,96.06',\n",
       "    'Lintang': '4.85 LU',\n",
       "    'Bujur': '96.06 BT',\n",
       "    'Magnitude': '3.7',\n",
       "    'Kedalaman': '4 km',\n",
       "    'Wilayah': 'Pusat gempa berada di darat 29 km barat daya Kab. Pidie Jaya',\n",
       "    'Dirasakan': 'III Mane Pidie, II Tangse Pidie'},\n",
       "   {'Tanggal': '26 Mei 2022',\n",
       "    'Jam': '03:24:45 WIB',\n",
       "    'DateTime': '2022-05-25T20:24:45+00:00',\n",
       "    'Coordinates': '5.89,95.19',\n",
       "    'Lintang': '5.89 LU',\n",
       "    'Bujur': '95.19 BT',\n",
       "    'Magnitude': '3.1',\n",
       "    'Kedalaman': '2 km',\n",
       "    'Wilayah': 'Pusat gempa berada di laut 14 km BaratDaya Kota Sabang',\n",
       "    'Dirasakan': 'I-II Kota Sabang'},\n",
       "   {'Tanggal': '25 Mei 2022',\n",
       "    'Jam': '22:05:06 WIB',\n",
       "    'DateTime': '2022-05-25T15:05:06+00:00',\n",
       "    'Coordinates': '-4.71,92.67',\n",
       "    'Lintang': '4.71 LS',\n",
       "    'Bujur': '92.67 BT',\n",
       "    'Magnitude': '6.2',\n",
       "    'Kedalaman': '10 km',\n",
       "    'Wilayah': 'Pusat gempa berada di laut 819 km BaratDaya Nias Selatan',\n",
       "    'Dirasakan': 'II - III Nias Selatan'},\n",
       "   {'Tanggal': '25 Mei 2022',\n",
       "    'Jam': '21:15:51 WIB',\n",
       "    'DateTime': '2022-05-25T14:15:51+00:00',\n",
       "    'Coordinates': '-3.38,128.32',\n",
       "    'Lintang': '3.38 LS',\n",
       "    'Bujur': '128.32 BT',\n",
       "    'Magnitude': '2.5',\n",
       "    'Kedalaman': '10 km',\n",
       "    'Wilayah': 'Pusat gempa berada di laut 6 km barat daya Kairatu-Seram Bagian Barat',\n",
       "    'Dirasakan': 'II Kairatu'},\n",
       "   {'Tanggal': '25 Mei 2022',\n",
       "    'Jam': '20:20:49 WIB',\n",
       "    'DateTime': '2022-05-25T13:20:49+00:00',\n",
       "    'Coordinates': '-8.40,118.55',\n",
       "    'Lintang': '8.40 LS',\n",
       "    'Bujur': '118.55 BT',\n",
       "    'Magnitude': '3.6',\n",
       "    'Kedalaman': '10 km',\n",
       "    'Wilayah': 'Pusat gempa berada di darat 17 km timur laut Dompu',\n",
       "    'Dirasakan': 'III Bima, II Dompu'},\n",
       "   {'Tanggal': '25 Mei 2022',\n",
       "    'Jam': '04:18:56 WIB',\n",
       "    'DateTime': '2022-05-24T21:18:56+00:00',\n",
       "    'Coordinates': '-9.50,115.89',\n",
       "    'Lintang': '9.50 LS',\n",
       "    'Bujur': '115.89 BT',\n",
       "    'Magnitude': '4.4',\n",
       "    'Kedalaman': '24 km',\n",
       "    'Wilayah': 'Pusat gempa berada di laut 94 km barat daya Lombok Barat',\n",
       "    'Dirasakan': 'II - III Denpasar, II - III Lombok Barat, II Mataram'},\n",
       "   {'Tanggal': '25 Mei 2022',\n",
       "    'Jam': '04:18:18 WIB',\n",
       "    'DateTime': '2022-05-24T21:18:18+00:00',\n",
       "    'Coordinates': '-5.76,103.73',\n",
       "    'Lintang': '5.76 LS',\n",
       "    'Bujur': '103.73 BT',\n",
       "    'Magnitude': '5.1',\n",
       "    'Kedalaman': '25 km',\n",
       "    'Wilayah': 'Pusat gempa berada di laut 67 km barat daya Pesisir Barat',\n",
       "    'Dirasakan': 'II - III Liwa, II Pringsewu, II Tanggamus'},\n",
       "   {'Tanggal': '23 Mei 2022',\n",
       "    'Jam': '19:32:02 WIB',\n",
       "    'DateTime': '2022-05-23T12:32:02+00:00',\n",
       "    'Coordinates': '-4.61,102.75',\n",
       "    'Lintang': '4.61 LS',\n",
       "    'Bujur': '102.75 BT',\n",
       "    'Magnitude': '4.9',\n",
       "    'Kedalaman': '41 km',\n",
       "    'Wilayah': 'Pusat gempa berada di laut 25 km baratdaya Bengkulu Selatan',\n",
       "    'Dirasakan': 'IV Manna, IV Argamakmur, IV Lampung Barat, III-IV Kepahiang, III-IV Kota Bengkulu'},\n",
       "   {'Tanggal': '23 Mei 2022',\n",
       "    'Jam': '00:38:14 WIB',\n",
       "    'DateTime': '2022-05-22T17:38:14+00:00',\n",
       "    'Coordinates': '-0.48,99.56',\n",
       "    'Lintang': '0.48 LS',\n",
       "    'Bujur': '99.56 BT',\n",
       "    'Magnitude': '4.7',\n",
       "    'Kedalaman': '60 km',\n",
       "    'Wilayah': 'Pusat gempa berada di laut 55 km Baratdaya Lubukbasung',\n",
       "    'Dirasakan': 'III Pasaman Barat, III Lubuk Basung, III Padang, I-II Padang Pariaman'},\n",
       "   {'Tanggal': '21 Mei 2022',\n",
       "    'Jam': '15:29:16 WIB',\n",
       "    'DateTime': '2022-05-21T08:29:16+00:00',\n",
       "    'Coordinates': '-4.61,102.77',\n",
       "    'Lintang': '4.61 LS',\n",
       "    'Bujur': '102.77 BT',\n",
       "    'Magnitude': '4.8',\n",
       "    'Kedalaman': '31 km',\n",
       "    'Wilayah': 'Pusat gempa berada di laut 23 km Barat Daya Bengkulu Selatan',\n",
       "    'Dirasakan': 'II - III Kota Manna, II Kepahiang, II Krui, II Kemiling, II Liwa'},\n",
       "   {'Tanggal': '19 Mei 2022',\n",
       "    'Jam': '22:29:16 WIB',\n",
       "    'DateTime': '2022-05-19T15:29:16+00:00',\n",
       "    'Coordinates': '1.75,126.38',\n",
       "    'Lintang': '1.75 LU',\n",
       "    'Bujur': '126.38 BT',\n",
       "    'Magnitude': '5.5',\n",
       "    'Kedalaman': '10 km',\n",
       "    'Wilayah': 'Pusat gempa berada di laut 141 km baratLaut Halmahera barat',\n",
       "    'Dirasakan': 'III Manado, III Tondano, III Bitung'},\n",
       "   {'Tanggal': '19 Mei 2022',\n",
       "    'Jam': '04:12:08 WIB',\n",
       "    'DateTime': '2022-05-18T21:12:08+00:00',\n",
       "    'Coordinates': '-3.63,128.17',\n",
       "    'Lintang': '3.63 LS',\n",
       "    'Bujur': '128.17 BT',\n",
       "    'Magnitude': '2.9',\n",
       "    'Kedalaman': '10 km',\n",
       "    'Wilayah': 'Pusat gempa berada di darat 7 km Utara Ambon',\n",
       "    'Dirasakan': 'III Ambon'}]}}"
      ]
     },
     "execution_count": 19,
     "metadata": {},
     "output_type": "execute_result"
    }
   ],
   "source": [
    "data"
   ]
  },
  {
   "cell_type": "code",
   "execution_count": 26,
   "metadata": {},
   "outputs": [
    {
     "data": {
      "text/plain": [
       "{'message': 'Nama sudah diganti menjadi Budi', 'success': True}"
      ]
     },
     "execution_count": 26,
     "metadata": {},
     "output_type": "execute_result"
    }
   ],
   "source": [
    "URL = \"http://127.0.0.1:5000/ganti\"\n",
    "data = {'nama': 'Budi'}\n",
    "r = requests.post(URL, json=data)\n",
    "data = r.json()\n",
    "data"
   ]
  },
  {
   "cell_type": "code",
   "execution_count": 20,
   "metadata": {},
   "outputs": [
    {
     "data": {
      "text/plain": [
       "{'result': {'class': '1', 'class_name': 'Survived'}, 'success': True}"
      ]
     },
     "execution_count": 20,
     "metadata": {},
     "output_type": "execute_result"
    }
   ],
   "source": [
    "import requests\n",
    "URL = \"http://127.0.0.1:5000/predict\"\n",
    "data = {'passenger_class': 1,\n",
    "        'fare' : 350,\n",
    "        'age' : 35,\n",
    "        'sibling_spouse' : 0,\n",
    "        'parent_children' : 0,\n",
    "        'gender':'female'\n",
    "        }\n",
    "r = requests.post(URL, json=data)\n",
    "data = r.json()\n",
    "data"
   ]
  },
  {
   "cell_type": "code",
   "execution_count": 19,
   "metadata": {},
   "outputs": [
    {
     "data": {
      "text/plain": [
       "400"
      ]
     },
     "execution_count": 19,
     "metadata": {},
     "output_type": "execute_result"
    }
   ],
   "source": [
    "r.status_code"
   ]
  },
  {
   "cell_type": "code",
   "execution_count": null,
   "metadata": {},
   "outputs": [],
   "source": []
  }
 ],
 "metadata": {
  "interpreter": {
   "hash": "c3787c39cd66f4b43fb0ca1a22cb28edd1bc7c813df448f9ceb18b0c3475e29e"
  },
  "kernelspec": {
   "display_name": "Python 3.10.4 ('venv': venv)",
   "language": "python",
   "name": "python3"
  },
  "language_info": {
   "codemirror_mode": {
    "name": "ipython",
    "version": 3
   },
   "file_extension": ".py",
   "mimetype": "text/x-python",
   "name": "python",
   "nbconvert_exporter": "python",
   "pygments_lexer": "ipython3",
   "version": "3.10.4"
  },
  "orig_nbformat": 4
 },
 "nbformat": 4,
 "nbformat_minor": 2
}
