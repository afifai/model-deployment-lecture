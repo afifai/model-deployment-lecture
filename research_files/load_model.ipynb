{
 "cells": [
  {
   "cell_type": "code",
   "execution_count": 3,
   "metadata": {},
   "outputs": [],
   "source": [
    "import pickle\n",
    "\n",
    "# load scaler\n",
    "f = open(\"scaler.pkl\", \"rb\")\n",
    "ss = pickle.load(f)\n",
    "f.close()"
   ]
  },
  {
   "cell_type": "code",
   "execution_count": 8,
   "metadata": {},
   "outputs": [
    {
     "ename": "EOFError",
     "evalue": "Ran out of input",
     "output_type": "error",
     "traceback": [
      "\u001b[1;31m---------------------------------------------------------------------------\u001b[0m",
      "\u001b[1;31mEOFError\u001b[0m                                  Traceback (most recent call last)",
      "\u001b[1;32m<ipython-input-8-025526f002c3>\u001b[0m in \u001b[0;36m<module>\u001b[1;34m\u001b[0m\n\u001b[0;32m      1\u001b[0m \u001b[1;31m# model\u001b[0m\u001b[1;33m\u001b[0m\u001b[1;33m\u001b[0m\u001b[1;33m\u001b[0m\u001b[0m\n\u001b[0;32m      2\u001b[0m \u001b[1;32mwith\u001b[0m \u001b[0mopen\u001b[0m\u001b[1;33m(\u001b[0m\u001b[1;34m\"model.pkl\"\u001b[0m\u001b[1;33m,\u001b[0m \u001b[1;34m\"rb\"\u001b[0m\u001b[1;33m)\u001b[0m \u001b[1;32mas\u001b[0m \u001b[0mmodel_file\u001b[0m\u001b[1;33m:\u001b[0m\u001b[1;33m\u001b[0m\u001b[1;33m\u001b[0m\u001b[0m\n\u001b[1;32m----> 3\u001b[1;33m     \u001b[0mmodel\u001b[0m \u001b[1;33m=\u001b[0m \u001b[0mpickle\u001b[0m\u001b[1;33m.\u001b[0m\u001b[0mload\u001b[0m\u001b[1;33m(\u001b[0m\u001b[0mmodel_file\u001b[0m\u001b[1;33m)\u001b[0m\u001b[1;33m\u001b[0m\u001b[1;33m\u001b[0m\u001b[0m\n\u001b[0m",
      "\u001b[1;31mEOFError\u001b[0m: Ran out of input"
     ]
    }
   ],
   "source": [
    "# model\n",
    "with open(\"model.pkl\", \"rb\") as model_file:\n",
    "    model = pickle.load(model_file)"
   ]
  },
  {
   "cell_type": "code",
   "execution_count": 62,
   "metadata": {},
   "outputs": [
    {
     "data": {
      "text/plain": [
       "array([-4.88400258,  4.42321038,  3.58354864,  2.37190745])"
      ]
     },
     "execution_count": 62,
     "metadata": {},
     "output_type": "execute_result"
    }
   ],
   "source": [
    "# inference\n",
    "new_data = [2, 5, 10, 3]\n",
    "new_data_scaled = ss.transform([new_data])\n",
    "\n",
    "new_data_scaled[0]"
   ]
  },
  {
   "cell_type": "code",
   "execution_count": null,
   "metadata": {},
   "outputs": [],
   "source": [
    "res = model.predict(new_data_scaled)\n",
    "res[0]"
   ]
  },
  {
   "cell_type": "markdown",
   "metadata": {},
   "source": [
    "## Pipeline"
   ]
  },
  {
   "cell_type": "code",
   "execution_count": 9,
   "metadata": {},
   "outputs": [],
   "source": [
    "with open(\"pipeline.pkl\", \"rb\") as pipe_file:\n",
    "    pipe = pickle.load(pipe_file)"
   ]
  },
  {
   "cell_type": "code",
   "execution_count": 12,
   "metadata": {},
   "outputs": [
    {
     "data": {
      "text/plain": [
       "2"
      ]
     },
     "execution_count": 12,
     "metadata": {},
     "output_type": "execute_result"
    }
   ],
   "source": [
    "res = pipe.predict([new_data])\n",
    "res[0]"
   ]
  },
  {
   "cell_type": "markdown",
   "metadata": {},
   "source": [
    "## Komunikasi dengan API waktu sholat"
   ]
  },
  {
   "cell_type": "code",
   "execution_count": 44,
   "metadata": {},
   "outputs": [],
   "source": [
    "# komunikasi ke api waktu sholat\n",
    "import requests\n",
    "\n",
    "URL = \"https://api.pray.zone/v2/times/today.json?city=bandung\"\n",
    "r = requests.get(URL)\n",
    "data = r.json()"
   ]
  },
  {
   "cell_type": "code",
   "execution_count": 45,
   "metadata": {},
   "outputs": [
    {
     "data": {
      "text/plain": [
       "{'code': 200,\n",
       " 'status': 'OK',\n",
       " 'results': {'datetime': [{'times': {'Imsak': '04:35',\n",
       "     'Sunrise': '05:51',\n",
       "     'Fajr': '04:45',\n",
       "     'Dhuhr': '12:00',\n",
       "     'Asr': '15:06',\n",
       "     'Sunset': '18:09',\n",
       "     'Maghrib': '18:18',\n",
       "     'Isha': '19:11',\n",
       "     'Midnight': '23:27'},\n",
       "    'date': {'timestamp': 1646784000,\n",
       "     'gregorian': '2022-03-09',\n",
       "     'hijri': '1443-08-06'}}],\n",
       "  'location': {'latitude': -6.917463779449463,\n",
       "   'longitude': 107.61912536621094,\n",
       "   'elevation': 710.0,\n",
       "   'city': 'Bandung',\n",
       "   'country': 'Republic of Indonesia',\n",
       "   'country_code': 'ID',\n",
       "   'timezone': 'Asia/Jakarta',\n",
       "   'local_offset': 7.0},\n",
       "  'settings': {'timeformat': 'HH:mm',\n",
       "   'school': 'Ithna Ashari',\n",
       "   'juristic': 'Shafii',\n",
       "   'highlat': 'None',\n",
       "   'fajr_angle': 18.0,\n",
       "   'isha_angle': 17.0}}}"
      ]
     },
     "execution_count": 45,
     "metadata": {},
     "output_type": "execute_result"
    }
   ],
   "source": [
    "data"
   ]
  },
  {
   "cell_type": "code",
   "execution_count": 37,
   "metadata": {},
   "outputs": [
    {
     "name": "stdout",
     "output_type": "stream",
     "text": [
      "WAKTU SHOLAT DI AREA BANDUNG\n",
      "SUBUH : 04:45 WIB\n",
      "DZHUHUR : 12:00 WIB\n"
     ]
    }
   ],
   "source": [
    "print(f\"WAKTU SHOLAT DI AREA {data['results']['location']['city'].upper()}\")\n",
    "print(f\"SUBUH : {data['results']['datetime'][0]['times']['Fajr']} WIB\")\n",
    "print(f\"DZHUHUR : {data['results']['datetime'][0]['times']['Dhuhr']} WIB\")"
   ]
  },
  {
   "cell_type": "code",
   "execution_count": 39,
   "metadata": {},
   "outputs": [
    {
     "data": {
      "text/plain": [
       "{'nama': 'Afif', 'pekerjaan': 'data_scientist', 'usia': 18}"
      ]
     },
     "execution_count": 39,
     "metadata": {},
     "output_type": "execute_result"
    }
   ],
   "source": [
    "URL = \"http://127.0.0.1:5000/\"\n",
    "r = requests.get(URL)\n",
    "data = r.json()\n",
    "data"
   ]
  },
  {
   "cell_type": "code",
   "execution_count": 43,
   "metadata": {},
   "outputs": [
    {
     "data": {
      "text/plain": [
       "{'nama': 'wisnu', 'pekerjaan': 'trader binomo', 'usia': 30}"
      ]
     },
     "execution_count": 43,
     "metadata": {},
     "output_type": "execute_result"
    }
   ],
   "source": [
    "# post data\n",
    "URL = \"http://127.0.0.1:5000/input\"\n",
    "data = {'nama':'wisnu',\n",
    "        'usia': 30,\n",
    "        'pekerjaan':'trader binomo'}\n",
    "r = requests.post(URL, json=data)\n",
    "\n",
    "# panggil home page lagi\n",
    "URL = \"http://127.0.0.1:5000/\"\n",
    "r = requests.get(URL)\n",
    "data = r.json()\n",
    "data"
   ]
  },
  {
   "cell_type": "code",
   "execution_count": 66,
   "metadata": {},
   "outputs": [
    {
     "data": {
      "text/plain": [
       "{'code': 200,\n",
       " 'data': {'result': {'target': '0', 'target_names': 'Not Survived'}},\n",
       " 'status': 'OK'}"
      ]
     },
     "execution_count": 66,
     "metadata": {},
     "output_type": "execute_result"
    }
   ],
   "source": [
    "URL = \"http://127.0.0.1:5000/predict\"\n",
    "data = {'passenger_class':2,\n",
    "        'age': 13,\n",
    "        'siblingspouse':0,\n",
    "        'parentchildren':2,\n",
    "        'gender':'male'}\n",
    "r = requests.post(URL, json=data)\n",
    "res = r.json()\n",
    "res"
   ]
  },
  {
   "cell_type": "code",
   "execution_count": null,
   "metadata": {},
   "outputs": [],
   "source": [
    "content['passenger_class'],\n",
    "                    content['gender'],\n",
    "                    content['age'],\n",
    "                    content['siblingspouse'],\n",
    "                    content['parentchildren']"
   ]
  }
 ],
 "metadata": {
  "interpreter": {
   "hash": "d5383c6f5e47e21bb92d319bea8eb2bc3666e0959697399ccdf899458d6a4506"
  },
  "kernelspec": {
   "display_name": "Python 3.8.8 ('base')",
   "language": "python",
   "name": "python3"
  },
  "language_info": {
   "codemirror_mode": {
    "name": "ipython",
    "version": 3
   },
   "file_extension": ".py",
   "mimetype": "text/x-python",
   "name": "python",
   "nbconvert_exporter": "python",
   "pygments_lexer": "ipython3",
   "version": "3.8.8"
  },
  "orig_nbformat": 4
 },
 "nbformat": 4,
 "nbformat_minor": 2
}
